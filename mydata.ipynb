
import pandas as pd
import numpy as np
print('hi')
!wget -q https://raw.githubusercontent.com/arjuncreativo/learnml/refs/heads/main/car_price.csv -O mydata.csv
df = pd.read_csv('/content/mydata.csv')
df
